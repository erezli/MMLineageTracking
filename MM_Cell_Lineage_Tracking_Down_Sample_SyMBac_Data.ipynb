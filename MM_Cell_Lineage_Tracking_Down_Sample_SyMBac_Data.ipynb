{
 "cells": [
  {
   "cell_type": "code",
   "execution_count": 1,
   "id": "c43a5015",
   "metadata": {},
   "outputs": [],
   "source": [
    "import os\n",
    "import shutil\n",
    "import numpy as np\n",
    "import pandas as pd\n",
    "import ast"
   ]
  },
  {
   "cell_type": "code",
   "execution_count": 2,
   "id": "9b0e7a7c",
   "metadata": {},
   "outputs": [],
   "source": [
    "exp_dir = \"F://Cambridge//MENG//UROP2022//Data//SyMBac//T100-400_iter60_lysis0//\"\n",
    "mask_dir = exp_dir + \"masks\\\\\"\n",
    "channel_image_dir = exp_dir + \"convolutions\\\\\"\n",
    "lineage_dir = exp_dir + \"truth\\\\\"\n",
    "save_dir = exp_dir + \"down_sample\\\\\"\n",
    "if not os.path.isdir(save_dir):\n",
    "    os.mkdir(save_dir)"
   ]
  },
  {
   "cell_type": "markdown",
   "id": "f5943beb",
   "metadata": {},
   "source": [
    "### Down sample"
   ]
  },
  {
   "cell_type": "code",
   "execution_count": 3,
   "id": "9ab65af2",
   "metadata": {},
   "outputs": [
    {
     "ename": "FileNotFoundError",
     "evalue": "[WinError 3] The system cannot find the path specified: 'F://Cambridge//MENG//UROP2022//Data//SyMBac//T100-400_iter60_lysis0//truth\\\\'",
     "output_type": "error",
     "traceback": [
      "\u001b[1;31m---------------------------------------------------------------------------\u001b[0m",
      "\u001b[1;31mFileNotFoundError\u001b[0m                         Traceback (most recent call last)",
      "Input \u001b[1;32mIn [3]\u001b[0m, in \u001b[0;36m<cell line: 16>\u001b[1;34m()\u001b[0m\n\u001b[0;32m     13\u001b[0m     shutil\u001b[38;5;241m.\u001b[39mcopy(channel_image_dir \u001b[38;5;241m+\u001b[39m intensity_files[i \u001b[38;5;241m*\u001b[39m \u001b[38;5;241m2\u001b[39m], save_dir \u001b[38;5;241m+\u001b[39m \u001b[38;5;124m\"\u001b[39m\u001b[38;5;124mconvolutions\u001b[39m\u001b[38;5;130;01m\\\\\u001b[39;00m\u001b[38;5;124msynth_\u001b[39m\u001b[38;5;132;01m{:05d}\u001b[39;00m\u001b[38;5;124m.tif\u001b[39m\u001b[38;5;124m\"\u001b[39m\u001b[38;5;241m.\u001b[39mformat(i))\n\u001b[0;32m     15\u001b[0m \u001b[38;5;66;03m# cannot just down sample the true lineage like this\u001b[39;00m\n\u001b[1;32m---> 16\u001b[0m csv_files \u001b[38;5;241m=\u001b[39m [f \u001b[38;5;28;01mfor\u001b[39;00m f \u001b[38;5;129;01min\u001b[39;00m \u001b[43mos\u001b[49m\u001b[38;5;241;43m.\u001b[39;49m\u001b[43mlistdir\u001b[49m\u001b[43m(\u001b[49m\u001b[43mlineage_dir\u001b[49m\u001b[43m)\u001b[49m\n\u001b[0;32m     17\u001b[0m                    \u001b[38;5;28;01mif\u001b[39;00m os\u001b[38;5;241m.\u001b[39mpath\u001b[38;5;241m.\u001b[39misfile(os\u001b[38;5;241m.\u001b[39mpath\u001b[38;5;241m.\u001b[39mjoin(lineage_dir, f))]\n\u001b[0;32m     18\u001b[0m df \u001b[38;5;241m=\u001b[39m pd\u001b[38;5;241m.\u001b[39mread_csv(lineage_dir \u001b[38;5;241m+\u001b[39m csv_files[\u001b[38;5;241m0\u001b[39m], converters\u001b[38;5;241m=\u001b[39m{\n\u001b[0;32m     19\u001b[0m             \u001b[38;5;124m\"\u001b[39m\u001b[38;5;124mlabel\u001b[39m\u001b[38;5;124m\"\u001b[39m: ast\u001b[38;5;241m.\u001b[39mliteral_eval,\n\u001b[0;32m     20\u001b[0m             \u001b[38;5;124m\"\u001b[39m\u001b[38;5;124mparent_label\u001b[39m\u001b[38;5;124m\"\u001b[39m: ast\u001b[38;5;241m.\u001b[39mliteral_eval,\n\u001b[1;32m   (...)\u001b[0m\n\u001b[0;32m     23\u001b[0m             \u001b[38;5;124m\"\u001b[39m\u001b[38;5;124mpoles\u001b[39m\u001b[38;5;124m\"\u001b[39m: ast\u001b[38;5;241m.\u001b[39mliteral_eval\n\u001b[0;32m     24\u001b[0m         })\n\u001b[0;32m     25\u001b[0m parent_label \u001b[38;5;241m=\u001b[39m []\n",
      "\u001b[1;31mFileNotFoundError\u001b[0m: [WinError 3] The system cannot find the path specified: 'F://Cambridge//MENG//UROP2022//Data//SyMBac//T100-400_iter60_lysis0//truth\\\\'"
     ]
    }
   ],
   "source": [
    "mask_files = [f for f in os.listdir(mask_dir) \n",
    "              if os.path.isfile(os.path.join(mask_dir, f))]\n",
    "if not os.path.isdir(save_dir + \"masks\\\\\"):\n",
    "    os.mkdir(save_dir + \"masks\\\\\")\n",
    "for i in range(len(mask_files) // 2):\n",
    "    shutil.copy(mask_dir + mask_files[i * 2], save_dir + \"masks\\\\synth_{:05d}.tif\".format(i))\n",
    "    \n",
    "intensity_files = [f for f in os.listdir(channel_image_dir)\n",
    "                   if os.path.isfile(os.path.join(channel_image_dir, f))]\n",
    "if not os.path.isdir(save_dir + \"convolutions\\\\\"):\n",
    "    os.mkdir(save_dir + \"convolutions\\\\\")\n",
    "for i in range(len(intensity_files) // 2):\n",
    "    shutil.copy(channel_image_dir + intensity_files[i * 2], save_dir + \"convolutions\\\\synth_{:05d}.tif\".format(i))\n",
    "\n",
    "# cannot just down sample the true lineage like this\n",
    "csv_files = [f for f in os.listdir(lineage_dir)\n",
    "                   if os.path.isfile(os.path.join(lineage_dir, f))]\n",
    "df = pd.read_csv(lineage_dir + csv_files[0], converters={\n",
    "            \"label\": ast.literal_eval,\n",
    "            \"parent_label\": ast.literal_eval,\n",
    "            \"centroid\": ast.literal_eval,\n",
    "            \"barcode\": ast.literal_eval,\n",
    "            \"poles\": ast.literal_eval\n",
    "        })\n",
    "parent_label = []\n",
    "odd_time = False\n",
    "for index, row in df.iterrows():\n",
    "    if row[\"time_(mins)\"] % 8 == 4: # if down sample the third time\n",
    "        if odd_time:\n",
    "            parent_label = []\n",
    "        parent_label.append(row[\"parent_label\"])\n",
    "        df.drop(index=index, inplace=True)\n",
    "        odd_time = False\n",
    "    elif parent_label:\n",
    "#         print(row)\n",
    "#         print(row[\"time_(mins)\"])\n",
    "#         print(row[\"parent_label\"])\n",
    "#         print(parent_label)\n",
    "        df.at[index, \"parent_label\"] = parent_label[int(row[\"parent_label\"]) - 1]\n",
    "        odd_time = True\n",
    "if not os.path.isdir(save_dir + \"truth\\\\\"):\n",
    "    os.mkdir(save_dir + \"truth\\\\\")\n",
    "df.to_csv(save_dir + \"truth\\\\\" + csv_files[0])"
   ]
  },
  {
   "cell_type": "code",
   "execution_count": null,
   "id": "90495a25",
   "metadata": {},
   "outputs": [],
   "source": []
  }
 ],
 "metadata": {
  "kernelspec": {
   "display_name": "Python 3",
   "language": "python",
   "name": "python3"
  },
  "language_info": {
   "codemirror_mode": {
    "name": "ipython",
    "version": 3
   },
   "file_extension": ".py",
   "mimetype": "text/x-python",
   "name": "python",
   "nbconvert_exporter": "python",
   "pygments_lexer": "ipython3",
   "version": "3.9.12"
  }
 },
 "nbformat": 4,
 "nbformat_minor": 5
}
