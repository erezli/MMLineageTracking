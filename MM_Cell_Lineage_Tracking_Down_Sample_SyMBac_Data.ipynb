{
 "cells": [
  {
   "cell_type": "code",
   "execution_count": null,
   "id": "9b0e7a7c",
   "metadata": {},
   "outputs": [],
   "source": [
    "exp_dir = \"F:\\\\Cambridge\\\\MENG\\\\UROP 2022\\\\Data\\\\SyMBac\\\\T100-400_iter20_lysis004\\\\\"\n",
    "mask_dir = exp_dir + \"masks\\\\\"\n",
    "channel_image_dir = exp_dir + \"convolutions\\\\\"\n",
    "lineage_dir = exp_dir + \"truth\\\\\""
   ]
  }
 ],
 "metadata": {
  "kernelspec": {
   "display_name": "Python 3 (ipykernel)",
   "language": "python",
   "name": "python3"
  },
  "language_info": {
   "codemirror_mode": {
    "name": "ipython",
    "version": 3
   },
   "file_extension": ".py",
   "mimetype": "text/x-python",
   "name": "python",
   "nbconvert_exporter": "python",
   "pygments_lexer": "ipython3",
   "version": "3.9.13"
  }
 },
 "nbformat": 4,
 "nbformat_minor": 5
}
