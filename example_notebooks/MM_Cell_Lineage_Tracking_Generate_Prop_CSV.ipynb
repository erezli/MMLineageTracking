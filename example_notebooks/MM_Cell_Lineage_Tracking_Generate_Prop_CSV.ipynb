{
 "cells": [
  {
   "cell_type": "markdown",
   "id": "b58e5cb5",
   "metadata": {},
   "source": [
    "# Lineage Tracking for Cells in the Mother Machine"
   ]
  },
  {
   "cell_type": "code",
   "execution_count": 5,
   "id": "bbd4b8ac",
   "metadata": {},
   "outputs": [],
   "source": [
    "from LineageTrack.measure_properties import generate_csv\n",
    "import os\n",
    "import numpy as np\n",
    "import matplotlib.pyplot as plt\n",
    "import matplotlib.image as mpimg\n",
    "import pandas as pd\n",
    "from joblib import Parallel, delayed\n",
    "\n",
    "### comment out ###\n",
    "# from jupyterthemes import jtplot\n",
    "# jtplot.style(theme='oceans16')"
   ]
  },
  {
   "cell_type": "code",
   "execution_count": 6,
   "id": "5d5af563",
   "metadata": {
    "scrolled": true
   },
   "outputs": [],
   "source": [
    "exp_dir = \"D:\\\\UROP-Data\\\\\"\n",
    "mask_dir = exp_dir + \"binary_masks\\\\\"\n",
    "channel_image_dir = exp_dir + \"trenches\\\\\"\n",
    "fov_list = [\"021\", \"022\", \"023\", \"024\", \"025\", \"026\", \"027\", \"028\", \"029\", \"030\", \"031\"]\n",
    "# fov_list = [\"000\"]\n",
    "for fov in fov_list:\n",
    "    FOV_dir = \"F:\\\\Cambridge\\\\MENG\\\\UROP 2022\\\\Data\\\\MMLT\\\\FOV{}\\\\\".format(fov)\n",
    "    if not os.path.isdir(FOV_dir):\n",
    "        os.mkdir(FOV_dir)"
   ]
  },
  {
   "cell_type": "code",
   "execution_count": 7,
   "id": "c1a98db6",
   "metadata": {},
   "outputs": [],
   "source": [
    "# import tifffile\n",
    "\n",
    "# image = tifffile.imread(mask_dir + \"\\\\synth_00020.tif\")\n",
    "# # np.set_printoptions(threshold=100000)\n",
    "# # print(image)\n",
    "# plt.imshow(image)\n",
    "# plt.show()"
   ]
  },
  {
   "cell_type": "markdown",
   "id": "4c1f0b8e",
   "metadata": {},
   "source": [
    "# Measure cell properties from the images"
   ]
  },
  {
   "cell_type": "code",
   "execution_count": 8,
   "id": "d0f9cf49",
   "metadata": {},
   "outputs": [
    {
     "data": {
      "text/plain": [
       "[\"saved to ['F:\\\\\\\\Cambridge\\\\\\\\MENG\\\\\\\\UROP 2022\\\\\\\\Data\\\\\\\\MMLT\\\\\\\\FOV021\\\\\\\\prop\\\\\\\\xy021_PC_epoch-20_prob-99.csv', 'F:\\\\\\\\Cambridge\\\\\\\\MENG\\\\\\\\UROP 2022\\\\\\\\Data\\\\\\\\MMLT\\\\\\\\FOV021\\\\\\\\prop\\\\\\\\xy021_mCherry_epoch-20_prob-99.csv', 'F:\\\\\\\\Cambridge\\\\\\\\MENG\\\\\\\\UROP 2022\\\\\\\\Data\\\\\\\\MMLT\\\\\\\\FOV021\\\\\\\\prop\\\\\\\\xy021_YFP_epoch-20_prob-99.csv']\",\n",
       " \"saved to ['F:\\\\\\\\Cambridge\\\\\\\\MENG\\\\\\\\UROP 2022\\\\\\\\Data\\\\\\\\MMLT\\\\\\\\FOV022\\\\\\\\prop\\\\\\\\xy022_PC_epoch-20_prob-99.csv', 'F:\\\\\\\\Cambridge\\\\\\\\MENG\\\\\\\\UROP 2022\\\\\\\\Data\\\\\\\\MMLT\\\\\\\\FOV022\\\\\\\\prop\\\\\\\\xy022_mCherry_epoch-20_prob-99.csv', 'F:\\\\\\\\Cambridge\\\\\\\\MENG\\\\\\\\UROP 2022\\\\\\\\Data\\\\\\\\MMLT\\\\\\\\FOV022\\\\\\\\prop\\\\\\\\xy022_YFP_epoch-20_prob-99.csv']\",\n",
       " \"saved to ['F:\\\\\\\\Cambridge\\\\\\\\MENG\\\\\\\\UROP 2022\\\\\\\\Data\\\\\\\\MMLT\\\\\\\\FOV023\\\\\\\\prop\\\\\\\\xy023_PC_epoch-20_prob-99.csv', 'F:\\\\\\\\Cambridge\\\\\\\\MENG\\\\\\\\UROP 2022\\\\\\\\Data\\\\\\\\MMLT\\\\\\\\FOV023\\\\\\\\prop\\\\\\\\xy023_mCherry_epoch-20_prob-99.csv', 'F:\\\\\\\\Cambridge\\\\\\\\MENG\\\\\\\\UROP 2022\\\\\\\\Data\\\\\\\\MMLT\\\\\\\\FOV023\\\\\\\\prop\\\\\\\\xy023_YFP_epoch-20_prob-99.csv']\",\n",
       " \"saved to ['F:\\\\\\\\Cambridge\\\\\\\\MENG\\\\\\\\UROP 2022\\\\\\\\Data\\\\\\\\MMLT\\\\\\\\FOV024\\\\\\\\prop\\\\\\\\xy024_PC_epoch-20_prob-99.csv', 'F:\\\\\\\\Cambridge\\\\\\\\MENG\\\\\\\\UROP 2022\\\\\\\\Data\\\\\\\\MMLT\\\\\\\\FOV024\\\\\\\\prop\\\\\\\\xy024_mCherry_epoch-20_prob-99.csv', 'F:\\\\\\\\Cambridge\\\\\\\\MENG\\\\\\\\UROP 2022\\\\\\\\Data\\\\\\\\MMLT\\\\\\\\FOV024\\\\\\\\prop\\\\\\\\xy024_YFP_epoch-20_prob-99.csv']\",\n",
       " \"saved to ['F:\\\\\\\\Cambridge\\\\\\\\MENG\\\\\\\\UROP 2022\\\\\\\\Data\\\\\\\\MMLT\\\\\\\\FOV025\\\\\\\\prop\\\\\\\\xy025_PC_epoch-20_prob-99.csv', 'F:\\\\\\\\Cambridge\\\\\\\\MENG\\\\\\\\UROP 2022\\\\\\\\Data\\\\\\\\MMLT\\\\\\\\FOV025\\\\\\\\prop\\\\\\\\xy025_mCherry_epoch-20_prob-99.csv', 'F:\\\\\\\\Cambridge\\\\\\\\MENG\\\\\\\\UROP 2022\\\\\\\\Data\\\\\\\\MMLT\\\\\\\\FOV025\\\\\\\\prop\\\\\\\\xy025_YFP_epoch-20_prob-99.csv']\",\n",
       " \"saved to ['F:\\\\\\\\Cambridge\\\\\\\\MENG\\\\\\\\UROP 2022\\\\\\\\Data\\\\\\\\MMLT\\\\\\\\FOV026\\\\\\\\prop\\\\\\\\xy026_PC_epoch-20_prob-99.csv', 'F:\\\\\\\\Cambridge\\\\\\\\MENG\\\\\\\\UROP 2022\\\\\\\\Data\\\\\\\\MMLT\\\\\\\\FOV026\\\\\\\\prop\\\\\\\\xy026_mCherry_epoch-20_prob-99.csv', 'F:\\\\\\\\Cambridge\\\\\\\\MENG\\\\\\\\UROP 2022\\\\\\\\Data\\\\\\\\MMLT\\\\\\\\FOV026\\\\\\\\prop\\\\\\\\xy026_YFP_epoch-20_prob-99.csv']\",\n",
       " \"saved to ['F:\\\\\\\\Cambridge\\\\\\\\MENG\\\\\\\\UROP 2022\\\\\\\\Data\\\\\\\\MMLT\\\\\\\\FOV027\\\\\\\\prop\\\\\\\\xy027_PC_epoch-20_prob-99.csv', 'F:\\\\\\\\Cambridge\\\\\\\\MENG\\\\\\\\UROP 2022\\\\\\\\Data\\\\\\\\MMLT\\\\\\\\FOV027\\\\\\\\prop\\\\\\\\xy027_mCherry_epoch-20_prob-99.csv', 'F:\\\\\\\\Cambridge\\\\\\\\MENG\\\\\\\\UROP 2022\\\\\\\\Data\\\\\\\\MMLT\\\\\\\\FOV027\\\\\\\\prop\\\\\\\\xy027_YFP_epoch-20_prob-99.csv']\",\n",
       " \"saved to ['F:\\\\\\\\Cambridge\\\\\\\\MENG\\\\\\\\UROP 2022\\\\\\\\Data\\\\\\\\MMLT\\\\\\\\FOV028\\\\\\\\prop\\\\\\\\xy028_PC_epoch-20_prob-99.csv', 'F:\\\\\\\\Cambridge\\\\\\\\MENG\\\\\\\\UROP 2022\\\\\\\\Data\\\\\\\\MMLT\\\\\\\\FOV028\\\\\\\\prop\\\\\\\\xy028_mCherry_epoch-20_prob-99.csv', 'F:\\\\\\\\Cambridge\\\\\\\\MENG\\\\\\\\UROP 2022\\\\\\\\Data\\\\\\\\MMLT\\\\\\\\FOV028\\\\\\\\prop\\\\\\\\xy028_YFP_epoch-20_prob-99.csv']\",\n",
       " \"saved to ['F:\\\\\\\\Cambridge\\\\\\\\MENG\\\\\\\\UROP 2022\\\\\\\\Data\\\\\\\\MMLT\\\\\\\\FOV029\\\\\\\\prop\\\\\\\\xy029_PC_epoch-20_prob-99.csv', 'F:\\\\\\\\Cambridge\\\\\\\\MENG\\\\\\\\UROP 2022\\\\\\\\Data\\\\\\\\MMLT\\\\\\\\FOV029\\\\\\\\prop\\\\\\\\xy029_mCherry_epoch-20_prob-99.csv', 'F:\\\\\\\\Cambridge\\\\\\\\MENG\\\\\\\\UROP 2022\\\\\\\\Data\\\\\\\\MMLT\\\\\\\\FOV029\\\\\\\\prop\\\\\\\\xy029_YFP_epoch-20_prob-99.csv']\",\n",
       " \"saved to ['F:\\\\\\\\Cambridge\\\\\\\\MENG\\\\\\\\UROP 2022\\\\\\\\Data\\\\\\\\MMLT\\\\\\\\FOV030\\\\\\\\prop\\\\\\\\xy030_PC_epoch-20_prob-99.csv', 'F:\\\\\\\\Cambridge\\\\\\\\MENG\\\\\\\\UROP 2022\\\\\\\\Data\\\\\\\\MMLT\\\\\\\\FOV030\\\\\\\\prop\\\\\\\\xy030_mCherry_epoch-20_prob-99.csv', 'F:\\\\\\\\Cambridge\\\\\\\\MENG\\\\\\\\UROP 2022\\\\\\\\Data\\\\\\\\MMLT\\\\\\\\FOV030\\\\\\\\prop\\\\\\\\xy030_YFP_epoch-20_prob-99.csv']\",\n",
       " \"saved to ['F:\\\\\\\\Cambridge\\\\\\\\MENG\\\\\\\\UROP 2022\\\\\\\\Data\\\\\\\\MMLT\\\\\\\\FOV031\\\\\\\\prop\\\\\\\\xy031_PC_epoch-20_prob-99.csv', 'F:\\\\\\\\Cambridge\\\\\\\\MENG\\\\\\\\UROP 2022\\\\\\\\Data\\\\\\\\MMLT\\\\\\\\FOV031\\\\\\\\prop\\\\\\\\xy031_mCherry_epoch-20_prob-99.csv', 'F:\\\\\\\\Cambridge\\\\\\\\MENG\\\\\\\\UROP 2022\\\\\\\\Data\\\\\\\\MMLT\\\\\\\\FOV031\\\\\\\\prop\\\\\\\\xy031_YFP_epoch-20_prob-99.csv']\"]"
      ]
     },
     "execution_count": 8,
     "metadata": {},
     "output_type": "execute_result"
    }
   ],
   "source": [
    "Parallel(n_jobs=-1)(delayed(generate_csv)(f\"xy{fov}\", mask_dir, channel_image_dir, 3, \n",
    "                                         \"F:\\\\Cambridge\\\\MENG\\\\UROP 2022\\\\Data\\\\MMLT\\\\FOV{}\\\\\".format(fov) + \"prop\\\\\", \n",
    "                                         30, ['PC', 'mCherry', 'YFP']) \n",
    "                   for fov in fov_list)"
   ]
  },
  {
   "cell_type": "code",
   "execution_count": null,
   "id": "91e1fdc2",
   "metadata": {},
   "outputs": [],
   "source": []
  },
  {
   "cell_type": "code",
   "execution_count": null,
   "id": "7012ae0c",
   "metadata": {},
   "outputs": [],
   "source": []
  }
 ],
 "metadata": {
  "kernelspec": {
   "display_name": "Python 3 (ipykernel)",
   "language": "python",
   "name": "python3"
  },
  "language_info": {
   "codemirror_mode": {
    "name": "ipython",
    "version": 3
   },
   "file_extension": ".py",
   "mimetype": "text/x-python",
   "name": "python",
   "nbconvert_exporter": "python",
   "pygments_lexer": "ipython3",
   "version": "3.10.8"
  }
 },
 "nbformat": 4,
 "nbformat_minor": 5
}
