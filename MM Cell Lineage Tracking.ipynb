{
 "cells": [
  {
   "cell_type": "code",
   "execution_count": 1,
   "id": "bbd4b8ac",
   "metadata": {},
   "outputs": [],
   "source": [
    "from LineageTrack.lineage_tracker import LineageTrack"
   ]
  },
  {
   "cell_type": "markdown",
   "id": "0a5ee9ea",
   "metadata": {},
   "source": [
    "Load the data for cells from a directory containing the csv files only or input all the file paths"
   ]
  },
  {
   "cell_type": "code",
   "execution_count": 2,
   "id": "b0e19ec3",
   "metadata": {},
   "outputs": [
    {
     "name": "stdout",
     "output_type": "stream",
     "text": [
      "Looking for data at these locations:\n",
      "D:\\UROP-Data\\new_csv\\2022_04_22_PC_data_epoch_20_prob_99.csv\n",
      "D:\\UROP-Data\\new_csv\\2022_04_22_RFP_data_epoch_20_prob_99.csv\n",
      "D:\\UROP-Data\\new_csv\\2022_04_22_YFP_data_epoch_20_prob_99.csv\n",
      "Finished loading the data\n",
      "The channels are: ['PC', 'YFP', 'mCherry']\n",
      "['centroid_local-1', 'major_axis_length', 'YFP_intensity_mean', 'centroid-0', 'centroid-1', 'trench_id', 'centroid_local-0', 'area', 'label', 'PC_intensity_mean', 'time_(mins)', 'mCherry_intensity_mean', 'minor_axis_length']\n",
      "   trench_id  time_(mins)  label   area  major_axis_length  minor_axis_length  \\\n",
      "0        0.0          0.0    1.0  238.0          53.914722           7.221878   \n",
      "\n",
      "   centroid-0  centroid-1  centroid_local-0  centroid_local-1  \\\n",
      "0   94.672272   65.420166          23.67227          4.420168   \n",
      "\n",
      "   PC_intensity_mean  mCherry_intensity_mean  YFP_intensity_mean  \n",
      "0        2048.146973             2647.348633          148.050415  \n",
      "(428063, 13)\n",
      "\n",
      "            Read 3 files\n",
      "            Channels: ['PC', 'YFP', 'mCherry']\n",
      "            Properties for each cell: ['centroid_local-1', 'major_axis_length', 'YFP_intensity_mean', 'centroid-0', 'centroid-1', 'trench_id', 'centroid_local-0', 'area', 'label', 'PC_intensity_mean', 'time_(mins)', 'mCherry_intensity_mean', 'minor_axis_length']\n",
      "        \n"
     ]
    }
   ],
   "source": [
    "directory = \"D:\\\\UROP-Data\\\\new_csv\"\n",
    "exp = LineageTrack(directory)\n",
    "print(exp)\n",
    "# or\n",
    "# filepath1 = \"\"\n",
    "# filepath2 = \"\"\n",
    "# ...\n",
    "# exp = LineageTrack(filepath1, filepath2, ...)"
   ]
  },
  {
   "cell_type": "code",
   "execution_count": null,
   "id": "b0a6383a",
   "metadata": {},
   "outputs": [],
   "source": []
  }
 ],
 "metadata": {
  "kernelspec": {
   "display_name": "Python 3",
   "language": "python",
   "name": "python3"
  },
  "language_info": {
   "codemirror_mode": {
    "name": "ipython",
    "version": 3
   },
   "file_extension": ".py",
   "mimetype": "text/x-python",
   "name": "python",
   "nbconvert_exporter": "python",
   "pygments_lexer": "ipython3",
   "version": "3.7.6"
  }
 },
 "nbformat": 4,
 "nbformat_minor": 5
}
