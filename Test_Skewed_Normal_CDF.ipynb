{
 "cells": [
  {
   "cell_type": "code",
   "execution_count": 30,
   "id": "938f329b",
   "metadata": {},
   "outputs": [],
   "source": [
    "import numpy as np\n",
    "from scipy.stats import multivariate_normal, norm, skewnorm\n",
    "from scipy.special import owens_t\n",
    "\n",
    "def sn_cdf2(val, a, mean, var):\n",
    "    val = (np.array(val) - mean) / np.sqrt(var)\n",
    "    if a >= 0:\n",
    "        x = np.array([[v, 0] for v in val])\n",
    "        roh = -a / np.sqrt(1 + a**2)\n",
    "        cov = np.array([[1, roh], [roh, 1]])\n",
    "        return 2 * multivariate_normal.cdf(x, cov=cov)\n",
    "    else:\n",
    "        x = np.array([[-v, 0] for v in val])\n",
    "        roh = a / np.sqrt(1 + a**2)\n",
    "        cov = np.array([[1, roh], [roh, 1]])\n",
    "        return 1 - 2 * multivariate_normal.cdf(x, cov=cov)"
   ]
  },
  {
   "cell_type": "code",
   "execution_count": 31,
   "id": "34e539d3",
   "metadata": {},
   "outputs": [],
   "source": [
    "def sn_cdf1(val, a, mean, var):\n",
    "    # Todo: add upper / lower tail handling\n",
    "    val = (np.array(val) - mean) / np.sqrt(var)\n",
    "\n",
    "    if a >= 0:\n",
    "        # x = np.array([[v, 0] for v in val])\n",
    "        # cov = a / np.sqrt(1 + a ** 2)\n",
    "        # return 2 * multivariate_normal.cdf(x, cov=[[cov, 0], [0, cov]])\n",
    "        return norm.cdf(val) - 2 * owens_t(val, np.array([a] * len(val)))\n",
    "    else:\n",
    "        # x = np.array([[-v, 0] for v in val])\n",
    "        # cov = - a / np.sqrt(1 + a ** 2)\n",
    "        # return 1 - 2 * multivariate_normal.cdf(x, cov=[[cov, 0], [0, cov]])\n",
    "        return 1 - norm.cdf(-val) - 2 * owens_t(-val, np.array([a] * len(val)))\n"
   ]
  },
  {
   "cell_type": "code",
   "execution_count": 57,
   "id": "c8792760",
   "metadata": {},
   "outputs": [
    {
     "data": {
      "text/plain": [
       "array([0.35241638, 0.75521536, 0.95999971, 0.99743986, 0.99993778,\n",
       "       0.99999943, 0.99999966, 0.9999998 , 0.99999988, 0.99999993,\n",
       "       0.99999996, 0.99999998, 0.99999999, 0.99999999, 0.99999999,\n",
       "       0.99999999, 0.99999999, 0.99999999, 1.        ])"
      ]
     },
     "execution_count": 57,
     "metadata": {},
     "output_type": "execute_result"
    }
   ],
   "source": [
    "skewnorm.cdf(np.array([0,1,2,3,4,5,5.1,5.2,5.3,5.4,5.5,5.6,5.7,5.8,5.81,5.82,5.83,5.84,5.85], \n",
    "                      dtype=np.longdouble), 0.5)"
   ]
  },
  {
   "cell_type": "code",
   "execution_count": 58,
   "id": "2ef0f803",
   "metadata": {},
   "outputs": [
    {
     "data": {
      "text/plain": [
       "array([0.35241638, 0.75521536, 0.95999971, 0.99743986, 0.99993778,\n",
       "       0.99999943, 0.99999966, 0.9999998 , 0.99999988, 0.99999993,\n",
       "       0.99999996, 0.99999998, 0.99999999, 0.99999999, 0.99999999,\n",
       "       0.99999999, 0.99999999, 0.99999999, 1.        ])"
      ]
     },
     "execution_count": 58,
     "metadata": {},
     "output_type": "execute_result"
    }
   ],
   "source": [
    "sn_cdf1(np.array([0,1,2,3,4,5,5.1,5.2,5.3,5.4,5.5,5.6,5.7,5.8,5.81,5.82,5.83,5.84,5.85], \n",
    "                 dtype=np.longdouble), 0.5, 0, 1)"
   ]
  },
  {
   "cell_type": "code",
   "execution_count": 59,
   "id": "c78f23d8",
   "metadata": {},
   "outputs": [
    {
     "data": {
      "text/plain": [
       "array([0.35241638, 0.75521536, 0.95999971, 0.99743986, 0.99993778,\n",
       "       0.99999943, 0.99999966, 0.9999998 , 0.99999988, 0.99999993,\n",
       "       0.99999996, 0.99999998, 0.99999999, 0.99999999, 0.99999999,\n",
       "       0.99999999, 0.99999999, 0.99999999, 1.        ])"
      ]
     },
     "execution_count": 59,
     "metadata": {},
     "output_type": "execute_result"
    }
   ],
   "source": [
    "sn_cdf2(np.array([0,1,2,3,4,5,5.1,5.2,5.3,5.4,5.5,5.6,5.7,5.8,5.81,5.82,5.83,5.84,5.85], \n",
    "                 dtype=np.longdouble), 0.5, 0, 1)"
   ]
  },
  {
   "cell_type": "code",
   "execution_count": null,
   "id": "29b98cee",
   "metadata": {},
   "outputs": [],
   "source": []
  },
  {
   "cell_type": "code",
   "execution_count": null,
   "id": "75986059",
   "metadata": {},
   "outputs": [],
   "source": []
  }
 ],
 "metadata": {
  "kernelspec": {
   "display_name": "Python 3 (ipykernel)",
   "language": "python",
   "name": "python3"
  },
  "language_info": {
   "codemirror_mode": {
    "name": "ipython",
    "version": 3
   },
   "file_extension": ".py",
   "mimetype": "text/x-python",
   "name": "python",
   "nbconvert_exporter": "python",
   "pygments_lexer": "ipython3",
   "version": "3.9.13"
  }
 },
 "nbformat": 4,
 "nbformat_minor": 5
}
